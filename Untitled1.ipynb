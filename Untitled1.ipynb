{
 "cells": [
  {
   "cell_type": "code",
   "execution_count": null,
   "metadata": {},
   "outputs": [],
   "source": [
    "# https://www.analyticsvidhya.com/blog/2020/03/polynomial-regression-python/v\n",
    "\n",
    "# Importing Linear Regression\n",
    "from sklearn.linear_model import LinearRegression\n",
    "from sklearn.metrics import mean_squared_error\n",
    "\n",
    "y = df.power.to_numpy() \n",
    "x = df.speed.to_numpy().reshape(-1, 1)\n",
    "\n",
    "# Training Model\n",
    "lm=LinearRegression()\n",
    "lm.fit(x.reshape(-1,1),y.reshape(-1,1))\n",
    "\n",
    "y_pred=lm.predict(x.reshape(-1,1))\n",
    "\n",
    "# plotting predictions\n",
    "plt.figure(figsize=(10,5))\n",
    "plt.scatter(x,y,s=15)\n",
    "plt.plot(x,y_pred,color='r')\n",
    "plt.xlabel('Predictor',fontsize=16)\n",
    "plt.ylabel('Target',fontsize=16)\n",
    "plt.show()\n",
    "\n",
    "# importing libraries for polynomial transform\n",
    "from sklearn.preprocessing import PolynomialFeatures\n",
    "# for creating pipeline\n",
    "from sklearn.pipeline import Pipeline\n",
    "# creating pipeline and fitting it on data\n",
    "Input=[('polynomial',PolynomialFeatures(degree=5)),('modal',LinearRegression())]\n",
    "pipe=Pipeline(Input)\n",
    "pipe.fit(x.reshape(-1,1),y.reshape(-1,1))\n",
    "\n",
    "poly_pred=pipe.predict(x.reshape(-1,1))\n",
    "#sorting predicted values with respect to predictor\n",
    "sorted_zip = sorted(zip(x,poly_pred))\n",
    "x_poly, poly_pred = zip(*sorted_zip)\n",
    "#plotting predictions\n",
    "plt.figure(figsize=(10,6))\n",
    "plt.scatter(x,y,s=15)\n",
    "plt.plot(x,y_pred,color='r',label='Linear Regression')\n",
    "plt.plot(x_poly,poly_pred,color='g',label='Polynomial Regression')\n",
    "plt.xlabel('Predictor',fontsize=16)\n",
    "plt.ylabel('Target',fontsize=16)\n",
    "plt.legend()\n",
    "plt.show()\n",
    "\n",
    "print('RMSE for Polynomial Regression=>',np.sqrt(mean_squared_error(y,poly_pred)))\n",
    "print(r2_score(y, poly_pred))"
   ]
  }
 ],
 "metadata": {
  "kernelspec": {
   "display_name": "Python 3",
   "language": "python",
   "name": "python3"
  },
  "language_info": {
   "codemirror_mode": {
    "name": "ipython",
    "version": 3
   },
   "file_extension": ".py",
   "mimetype": "text/x-python",
   "name": "python",
   "nbconvert_exporter": "python",
   "pygments_lexer": "ipython3",
   "version": "3.8.5"
  }
 },
 "nbformat": 4,
 "nbformat_minor": 4
}
